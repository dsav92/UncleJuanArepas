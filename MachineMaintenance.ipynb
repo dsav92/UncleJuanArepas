{
 "cells": [
  {
   "cell_type": "code",
   "execution_count": null,
   "id": "33a8c7d0-df59-418a-9198-7e2061d969cd",
   "metadata": {},
   "outputs": [],
   "source": [
    "import os\n",
    "import sys\n",
    "import pandas as pd\n",
    "import csv\n",
    "import numpy as np\n",
    "import statistics"
   ]
  },
  {
   "cell_type": "code",
   "execution_count": null,
   "id": "d104e703-fdf1-436d-b5be-b44c4630c4fa",
   "metadata": {},
   "outputs": [],
   "source": [
    "# READ DATASETS AND SAVE CSV DATA INTO PANDAS DATAFRAMES CASTING TIMESTAMPS"
   ]
  },
  {
   "cell_type": "code",
   "execution_count": null,
   "id": "8ee26704-e4b0-4f77-9b5d-aed9fcfc3ce6",
   "metadata": {},
   "outputs": [],
   "source": [
    "df_batch_registry = pd.read_csv(r'dataset/batch_registry.csv', sep = \";\", header = 0, index_col = False)\n",
    "df_batch_registry"
   ]
  },
  {
   "cell_type": "code",
   "execution_count": null,
   "id": "100836aa-b1a0-4e38-984a-bdd09da297f4",
   "metadata": {},
   "outputs": [],
   "source": [
    "df_cooking_metrics = pd.read_csv(r'dataset/cooking_metrics.csv', sep = \";\", header = 0, index_col = False)\n",
    "df_cooking_metrics['timestamp'] = pd.to_datetime(df_cooking_metrics['timestamp'])\n",
    "df_cooking_metrics"
   ]
  },
  {
   "cell_type": "code",
   "execution_count": null,
   "id": "328fb49c-4227-4ec4-8a26-1941dae86e67",
   "metadata": {},
   "outputs": [],
   "source": [
    "df_faulty_intervals = pd.read_csv(r'dataset/faulty_intervals.csv', sep = \";\", header = 0, index_col = False)\n",
    "df_faulty_intervals['start_time'] = pd.to_datetime(df_faulty_intervals['start_time'])\n",
    "df_faulty_intervals['end_time'] = pd.to_datetime(df_faulty_intervals['end_time'])\n",
    "df_faulty_intervals"
   ]
  },
  {
   "cell_type": "code",
   "execution_count": null,
   "id": "b6e71d95-6ff0-4a43-903b-2038804bbde9",
   "metadata": {},
   "outputs": [],
   "source": [
    "# JOIN METRICS AND BATCH REGISTRY"
   ]
  },
  {
   "cell_type": "code",
   "execution_count": null,
   "id": "6d3d65f9-b502-4dd2-9703-1a18ef8e66aa",
   "metadata": {},
   "outputs": [],
   "source": [
    "df_metrics_join_arepas = pd.merge(df_cooking_metrics,df_batch_registry,on=['batch_id'])\n",
    "df_metrics_join_arepas"
   ]
  },
  {
   "cell_type": "code",
   "execution_count": null,
   "id": "8bcb163a-3c02-44cc-accf-4cedc8b01b55",
   "metadata": {},
   "outputs": [],
   "source": [
    "# SOME DATA PREPARATION IN ORDER TO GET FLOAT TYPE FOR METRICS"
   ]
  },
  {
   "cell_type": "code",
   "execution_count": null,
   "id": "369c7f21-0a3f-4390-87a2-81e47320dea8",
   "metadata": {},
   "outputs": [],
   "source": [
    "df_metrics_join_arepas['metric_1'] = df_metrics_join_arepas['metric_1'].str.replace(',', '.')\n",
    "df_metrics_join_arepas['metric_2'] = df_metrics_join_arepas['metric_2'].str.replace(',', '.')\n",
    "df_metrics_join_arepas['metric_1'] = df_metrics_join_arepas['metric_1'].astype(float)\n",
    "df_metrics_join_arepas['metric_2'] = df_metrics_join_arepas['metric_2'].astype(float)\n",
    "df_metrics_join_arepas"
   ]
  },
  {
   "cell_type": "code",
   "execution_count": null,
   "id": "a1ab90e1-8723-4dfd-a94f-06dc72d01891",
   "metadata": {},
   "outputs": [],
   "source": [
    "# FILTERING DATASETS FOR MACHINE AND AREPAS TYPE"
   ]
  },
  {
   "cell_type": "code",
   "execution_count": null,
   "id": "ccd5aa2e-ab2b-4d68-b6af-b5a2905d19ba",
   "metadata": {},
   "outputs": [],
   "source": [
    "df_metrics_join_arepas_m1 = df_metrics_join_arepas.loc[df_metrics_join_arepas['machine_id'].str.contains('m1')]\n",
    "df_metrics_join_arepas_m1_a1 = df_metrics_join_arepas_m1.loc[df_metrics_join_arepas_m1['arepa_type'].str.contains('a1')]\n",
    "df_metrics_join_arepas_m1_a1"
   ]
  },
  {
   "cell_type": "code",
   "execution_count": null,
   "id": "fa45150d-ccff-4dfe-a012-ff8167f230c5",
   "metadata": {},
   "outputs": [],
   "source": [
    "df_faulty_intervals_m1 = df_faulty_intervals.loc[df_faulty_intervals['machine_id'].str.contains('m1')]\n",
    "df_faulty_intervals_m1"
   ]
  },
  {
   "cell_type": "code",
   "execution_count": null,
   "id": "f2439741-441b-4f05-bfd9-07df54689fe3",
   "metadata": {},
   "outputs": [],
   "source": [
    "# CLEAN DATASET FROM FAULTY DATA"
   ]
  },
  {
   "cell_type": "code",
   "execution_count": null,
   "id": "9cdc7fe7-e924-4189-a258-f50819e49c09",
   "metadata": {},
   "outputs": [],
   "source": [
    "for index_1, row_1 in df_metrics_join_arepas_m1_a1.iterrows():\n",
    "    for index_2, row_2 in df_faulty_intervals_m1.iterrows():\n",
    "        if(row_2['start_time']<row_1['timestamp']< row_2['end_time']):\n",
    "            print(row_1['timestamp'])\n",
    "            df_metrics_join_arepas_m1_a1 = df_metrics_join_arepas_m1_a1.drop(index_1)\n",
    "            break\n",
    "df_metrics_join_arepas_m1_a1"
   ]
  },
  {
   "cell_type": "code",
   "execution_count": null,
   "id": "e0b7ef1a-a0aa-4073-91eb-b25661fcc923",
   "metadata": {},
   "outputs": [],
   "source": [
    "# FUNCTION TO COMPUTE AVERAGE METRICS IN THE SPECIFIED INPUT TIMESTAMP\n",
    "# THEN WRITE DATA IN CSV FILE IN ORDER TO GET NEW DATASET"
   ]
  },
  {
   "cell_type": "code",
   "execution_count": null,
   "id": "6009326f-cd79-4022-bd3c-7caa99e5ef57",
   "metadata": {},
   "outputs": [],
   "source": [
    "def compute_average(start_time_input, end_time_input):\n",
    "    start_time = pd.to_datetime(start_time_input)\n",
    "    end_time = pd.to_datetime(end_time_input)\n",
    "    list_metric1 = []\n",
    "    list_metric2 = []\n",
    "    for index, row in df_metrics_join_arepas_m1_a1.iterrows():\n",
    "        if(start_time<row['timestamp']< end_time):\n",
    "            list_metric1.append(row['metric_1'])\n",
    "            list_metric2.append(row['metric_2'])\n",
    "    if(len(list_metric1)>0):\n",
    "        avg_metric1 = statistics.mean(list_metric1)\n",
    "        df_metrics_join_arepas_m1_a1['Avg_metric1'] = avg_metric1\n",
    "        print('Average for metric1: ' + str(avg_metric1))\n",
    "    else:\n",
    "        print('No valid data for metric 1 in the specified interval')\n",
    "    if(len(list_metric2)>0):\n",
    "        avg_metric2 = statistics.mean(list_metric2)\n",
    "        df_metrics_join_arepas_m1_a1['Avg_metric2'] = avg_metric2\n",
    "        print('Average for metric2: ' + str(avg_metric2))\n",
    "    else:\n",
    "        print('No valid data for metric 2 in the specified interval')\n",
    "    df_metrics_join_arepas_m1_a1['start_time'] = start_time\n",
    "    df_metrics_join_arepas_m1_a1['end_time'] = end_time\n",
    "    df_metrics_join_arepas_m1_a1.to_csv(r'dataset/average_metrics.csv', index=False)"
   ]
  },
  {
   "cell_type": "code",
   "execution_count": null,
   "id": "d54f6f4d-b6e5-44b6-9654-30111e2c47b3",
   "metadata": {},
   "outputs": [],
   "source": [
    "compute_average('2020-11-01T01:25:00','2020-11-01T01:36:00')"
   ]
  },
  {
   "cell_type": "code",
   "execution_count": null,
   "id": "09b59f37-2352-4141-9457-8ecb442308e3",
   "metadata": {},
   "outputs": [],
   "source": [
    "# FUNCTION TO COMPUTE HOURLY AVERAGE METRICS IN THE SPECIFIED INPUT TIMESTAMP FOR MACHINE 1, KITCHEN 1, AREPA 1\n",
    "# THEN WRITE DATA IN CSV FILE IN ORDER TO GET NEW DATASET"
   ]
  },
  {
   "cell_type": "code",
   "execution_count": null,
   "id": "91e89698-7629-4236-b7c3-d88355d721a6",
   "metadata": {},
   "outputs": [],
   "source": [
    "def compute_hourly_average(start_time_input, end_time_input):\n",
    "    start_time = pd.to_datetime(start_time_input)\n",
    "    end_time = pd.to_datetime(end_time_input)\n",
    "    valid_data = []\n",
    "    for index, row in df_metrics_join_arepas_m1_a1.iterrows():\n",
    "        if(start_time<row['timestamp']< end_time):\n",
    "            valid_data.append(row)\n",
    "    df_metrics_join_arepas_m1_a1_to_hourly = pd.DataFrame(valid_data)\n",
    "    df_metrics_join_arepas_m1_a1_to_hourly['start_time'] = start_time\n",
    "    df_metrics_join_arepas_m1_a1_to_hourly['end_time'] = end_time\n",
    "    hour = pd.to_timedelta(df_metrics_join_arepas_m1_a1_to_hourly['timestamp'].dt.hour, unit='H')\n",
    "    hour.name = 'Hour'\n",
    "    df_hourly_average = df_metrics_join_arepas_m1_a1_to_hourly.groupby(hour).mean().reset_index()\n",
    "    df_hourly_average['machine_id'] = 'm1'\n",
    "    df_hourly_average['arepa_type'] = 'a1'\n",
    "    df_hourly_average['Hour']\n",
    "    df_hourly_average = df_hourly_average.drop(columns=['metric_1','metric_2'])\n",
    "    df_hourly_average.to_csv(r'dataset/hourly_average_metrics.csv', index=False)\n",
    "    return df_hourly_average"
   ]
  },
  {
   "cell_type": "code",
   "execution_count": null,
   "id": "74d866ca-92de-4519-bc20-37eaf742338f",
   "metadata": {},
   "outputs": [],
   "source": [
    "# SAVE RESULTS ALSO IN DATAFRAME IN ORDER TO SHOW DATA AFTER CSV CREATION"
   ]
  },
  {
   "cell_type": "code",
   "execution_count": null,
   "id": "be092b10-f8e7-4e2a-b7bc-ae000ccd8f6b",
   "metadata": {},
   "outputs": [],
   "source": [
    "df_hourly_average = compute_hourly_average('2020-11-01T01:25:00','2020-11-01T01:36:00')"
   ]
  },
  {
   "cell_type": "code",
   "execution_count": null,
   "id": "48c556bd-48b4-40de-9b45-815a983cb212",
   "metadata": {},
   "outputs": [],
   "source": [
    "df_hourly_average"
   ]
  },
  {
   "cell_type": "code",
   "execution_count": null,
   "id": "1ded4176-f434-4cbf-85a7-3b537bf40be1",
   "metadata": {},
   "outputs": [],
   "source": []
  }
 ],
 "metadata": {
  "kernelspec": {
   "display_name": "Python 3 (ipykernel)",
   "language": "python",
   "name": "python3"
  },
  "language_info": {
   "codemirror_mode": {
    "name": "ipython",
    "version": 3
   },
   "file_extension": ".py",
   "mimetype": "text/x-python",
   "name": "python",
   "nbconvert_exporter": "python",
   "pygments_lexer": "ipython3",
   "version": "3.8.13"
  }
 },
 "nbformat": 4,
 "nbformat_minor": 5
}
